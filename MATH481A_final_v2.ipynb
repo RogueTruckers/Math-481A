{
 "cells": [
  {
   "cell_type": "markdown",
   "id": "cf761439",
   "metadata": {},
   "source": [
    "# MATH 481A - Spring 2022\n",
    "## Numerical Analysis\n",
    "\n",
    "Your Name Here\n",
    "\n",
    "<hr>\n",
    "\n",
    "# Final Exam - Computing Problem: Runge-Kutta Schemes\n",
    "\n",
    "<hr>\n",
    "\n",
    "### Grading: This problem is worth 40 points out of a total of 140 points for the final exam\n",
    "\n",
    "<hr>"
   ]
  },
  {
   "cell_type": "markdown",
   "id": "78de67f8",
   "metadata": {},
   "source": [
    "Follow the directions below to compute the approximate solution to the first order ODE\n",
    "\n",
    "<br>\n",
    "\n",
    "$$ y' = f(t, y), \\ \\ \\ y(0) = y_0,$$\n",
    "\n",
    "using the four-stage, fourth-order Runge-Kutta scheme:\n",
    "\n",
    "<br>\n",
    "$$ \\begin{split} \\label{eq:rk4}\n",
    "k_1 = & \\, \\Delta t f(t_n, y_n) \\\\[0.1in]\n",
    "k_2 = & \\, \\Delta t f(t_n + \\frac{\\Delta t}{2}, y_n + \\frac{k_1}{2}) \\\\[0.1in]\n",
    "k_3 = & \\, \\Delta t f(t_n + \\frac{\\Delta t}{2}, y_n + \\frac{k_2}{2}) \\\\[0.1in]\n",
    "k_4 = & \\, \\Delta t f(t_n + \\Delta t, y_n + k_3) \\\\[0.1in]\n",
    "y_{n+1} = & \\, y_n + \\frac{1}{8} (k_1 + 3 k_2 + 3 k_3 + k_4).\n",
    "\\end{split} $$\n",
    "<br> \n",
    "\n",
    "<hr>"
   ]
  },
  {
   "cell_type": "code",
   "execution_count": 1,
   "id": "36d6401f",
   "metadata": {},
   "outputs": [],
   "source": [
    "import numpy as np\n",
    "import matplotlib.pyplot as plt\n",
    "import math"
   ]
  },
  {
   "cell_type": "markdown",
   "id": "28be09a2",
   "metadata": {},
   "source": [
    "<hr>\n",
    "\n",
    "### Example\n",
    "\n",
    "<hr>\n",
    "\n",
    "Approximate the solution of the ODE\n",
    "\n",
    "$$ y ' = 2t y, \\ \\ \\ \\ y(0) = 1, $$\n",
    "\n",
    "up to $t = 2$ using the three stage (third order) Runge-Kutta scheme:\n",
    "\n",
    "$$ \\begin{split}\n",
    "k_1 = & \\, \\Delta t f(t_n, y_n) \\\\[0.1in]\n",
    "k_2 = & \\, \\Delta t f(t_n + \\Delta t, y_n + k_1) \\\\[0.1in]\n",
    "k_3 = & \\, \\Delta t f(t_n + \\frac{\\Delta t}{2}, y_n + \\frac{k_1 + k_2}{4}) \\\\[0.1in]\n",
    "y_{n+1} = & \\, y_n + \\frac{k_1}{6} + \\frac{k_2}{6} + \\frac{2 \\, k_3}{3},\n",
    "\\end{split} $$\n",
    "\n",
    "using $\\Delta t = 0.05$ and display the numerical solution and the exact solution $y(t) = e^{t^2}$ in the same axis.\n",
    "\n",
    "<br>\n",
    "<hr>"
   ]
  },
  {
   "cell_type": "code",
   "execution_count": 2,
   "id": "9639de57",
   "metadata": {},
   "outputs": [],
   "source": [
    "# Function definition\n",
    "\n",
    "def f2(t,y):\n",
    "    return 2.0*t*y"
   ]
  },
  {
   "cell_type": "code",
   "execution_count": 3,
   "id": "603d9c29",
   "metadata": {},
   "outputs": [],
   "source": [
    "# Function definition of for the RK scheme\n",
    "\n",
    "def RK3(f, t0, tf, y0, dt):\n",
    "\n",
    "    t = np.arange(t0, tf + dt, dt)\n",
    "\n",
    "    K = len(t)\n",
    "    y = np.zeros(t.shape)\n",
    "    y[0] = y0\n",
    "\n",
    "    T = 0.0\n",
    "    t_final = tf\n",
    "\n",
    "    k = 0\n",
    "    while T < t_final and k < K-1:\n",
    "        k1 = dt*f(t[k], y[k])\n",
    "        k2 = dt*f(t[k] + 0.5*dt, y[k] + k1)\n",
    "        k3 = dt*f(t[k] + 0.5*dt, y[k] + 0.25*(k1 + k2))\n",
    "        y[k+1] = y[k] + (1.0/6.0)*(k1 + k2 + 4.0*k3)\n",
    "        k += 1\n",
    "        T += dt\n",
    "\n",
    "    return t, y"
   ]
  },
  {
   "cell_type": "code",
   "execution_count": 11,
   "id": "2c5613be",
   "metadata": {},
   "outputs": [
    {
     "data": {
      "text/plain": [
       "<matplotlib.legend.Legend at 0x20f1aefda30>"
      ]
     },
     "execution_count": 11,
     "metadata": {},
     "output_type": "execute_result"
    },
    {
     "data": {
      "image/png": "[encoded data removed]",
      "text/plain": [
       "<Figure size 432x288 with 1 Axes>"
      ]
     },
     "metadata": {
      "needs_background": "light"
     },
     "output_type": "display_data"
    }
   ],
   "source": [
    "dt = 0.05\n",
    "tRK1, yRK1 = RK3(f2, 0.0, 2.0, 1.0, dt)\n",
    "tExact = np.linspace(0.0, 2.0, 201)\n",
    "yExact = np.exp(tExact**2)\n",
    "plt.plot(tRK1, yRK1, '.-r', label = 'numerical solution')\n",
    "plt.plot(tExact, yExact, 'k', label = 'exact solution')\n",
    "plt.xlabel('t')\n",
    "plt.title('Numerical Solution vs. Exact Solution for dt = %.2f' %dt)\n",
    "plt.legend()"
   ]
  },
  {
   "cell_type": "markdown",
   "id": "08797e06",
   "metadata": {},
   "source": [
    "### Problem #1. \n",
    "\n",
    "Write a Python function named <tt>f(t,y)</tt> that takes as input $t$ and $y$ and returns $f(t, y) = -2ty$."
   ]
  },
  {
   "cell_type": "code",
   "execution_count": 23,
   "id": "8312c047",
   "metadata": {},
   "outputs": [],
   "source": [
    "def f(t,y):     #referenced above\n",
    "    return -2*t*y\n"
   ]
  },
  {
   "cell_type": "markdown",
   "id": "839138df",
   "metadata": {},
   "source": [
    "### Problem #2\n",
    "\n",
    "Write a function name <tt>RK4(f, t0, tf, y0, dt)</tt> that takes as input:\n",
    "<br>\n",
    "\n",
    "1. <tt>f</tt> - the name of the funtion defining the right hand side of the ODE.\n",
    "<br>\n",
    "1. <tt>t0</tt> - initial time,\n",
    "<br>\n",
    "1. <tt>tf</tt> - final time, and\n",
    "<br>\n",
    "1. <tt>y0</tt> - initial conditions $y_0 = y(t_0)$.\n",
    "\n",
    "And retunrs as output two 1D numpy arrays:\n",
    "\n",
    "1. <tt>t</tt> - holding the values $t_k$ at which the solution was approximated, and\n",
    "<br>\n",
    "1. <tt>y</tt> - holding the approximate values of the solution $y_k \\approx y(t_k)$ computed with the four-stage Runge-Kutta scheme above.\n",
    "\n"
   ]
  },
  {
   "cell_type": "code",
   "execution_count": 28,
   "id": "c1073ddc",
   "metadata": {},
   "outputs": [],
   "source": [
    "def RK4(f, t0, tf, y0, dt): #referenced above\n",
    "    t = np.arange(t0, tf + dt, dt)\n",
    "\n",
    "    K = len(t)\n",
    "    y = np.zeros(t.shape)\n",
    "    y[0] = y0\n",
    "\n",
    "    T = 0.0\n",
    "    t_final = tf\n",
    "\n",
    "    k = 0\n",
    "\n",
    "    while T < t_final and K < K-1:\n",
    "        k1 = dt*f(t[k], y[k])\n",
    "        k2 = dt*f(t[k] + (dt/2), y[k] + (k1/2))\n",
    "        k3 = dt*f(t[k] + (dt/2), y[k] + (k2/2))\n",
    "        k4 = dt*f(t[k] + dt, y[k] + k3)\n",
    "        y[k+1] = y[k] + (1.0/8.0) * (k1 + (3.0*k2) + (3.0*k3) + k4)\n",
    "        k += 1\n",
    "        T += dt\n",
    "    return t, y"
   ]
  },
  {
   "cell_type": "markdown",
   "id": "d1b501c9",
   "metadata": {},
   "source": [
    "<hr>\n",
    "\n",
    "### Problem #3\n",
    "\n",
    "Use the functions you wrote in problems #1 and #2 to approximate the solution of the first order ODE\n",
    "\n",
    "<br>\n",
    "$$ y' = -2ty, \\ \\ \\ y(0) = 1,$$\n",
    "\n",
    "up to $t = 2$ using the four-stage Runge-Kutta scheme above and $\\Delta t = 0.1, 0.05, 0.01$. Plot your numerical sulutions and the exact solution $y = e^{-t^2}$ in the same axis.\n",
    "\n",
    "<hr>"
   ]
  },
  {
   "cell_type": "code",
   "execution_count": 30,
   "id": "f7017b4e",
   "metadata": {},
   "outputs": [
    {
     "data": {
      "text/plain": [
       "<matplotlib.legend.Legend at 0x20f1c4cf9d0>"
      ]
     },
     "execution_count": 30,
     "metadata": {},
     "output_type": "execute_result"
    },
    {
     "data": {
      "image/png": "[encoded data removed]",
      "text/plain": [
       "<Figure size 432x288 with 1 Axes>"
      ]
     },
     "metadata": {
      "needs_background": "light"
     },
     "output_type": "display_data"
    }
   ],
   "source": [
    "#referenced above\n",
    "dt = 0.1\n",
    "tRK1, yRK1 = RK3(f, 0.0, 2.0, 1.0, dt)\n",
    "tExact = np.linspace(0.0, 2.0, 201)\n",
    "yExact = np.exp(-tExact**2)\n",
    "plt.plot(tRK1, yRK1, '.-r', label = 'numerical solution')\n",
    "plt.plot(tExact, yExact, 'k', label = 'exact solution')\n",
    "plt.xlabel('t')\n",
    "plt.title('Numerical Solution vs. Exact Solution for dt = %.2f' %dt)\n",
    "plt.legend()\n"
   ]
  },
  {
   "cell_type": "code",
   "execution_count": 31,
   "id": "546be876",
   "metadata": {},
   "outputs": [
    {
     "data": {
      "text/plain": [
       "<matplotlib.legend.Legend at 0x20f1c54da60>"
      ]
     },
     "execution_count": 31,
     "metadata": {},
     "output_type": "execute_result"
    },
    {
     "data": {
      "image/png": "[encoded data removed]",
      "text/plain": [
       "<Figure size 432x288 with 1 Axes>"
      ]
     },
     "metadata": {
      "needs_background": "light"
     },
     "output_type": "display_data"
    }
   ],
   "source": [
    "#referenced above\n",
    "dt = 0.05\n",
    "tRK1, yRK1 = RK3(f, 0.0, 2.0, 1.0, dt)\n",
    "tExact = np.linspace(0.0, 2.0, 201)\n",
    "yExact = np.exp(-tExact**2)\n",
    "plt.plot(tRK1, yRK1, '.-y', label = 'numerical solution')\n",
    "plt.plot(tExact, yExact, 'k', label = 'exact solution')\n",
    "plt.xlabel('t')\n",
    "plt.title('Numerical Solution vs. Exact Solution for dt = %.2f' %dt)\n",
    "plt.legend()"
   ]
  },
  {
   "cell_type": "code",
   "execution_count": 32,
   "id": "9a6e67c3",
   "metadata": {},
   "outputs": [
    {
     "data": {
      "text/plain": [
       "<matplotlib.legend.Legend at 0x20f1c5ccc40>"
      ]
     },
     "execution_count": 32,
     "metadata": {},
     "output_type": "execute_result"
    },
    {
     "data": {
      "image/png": "[encoded data removed]",
      "text/plain": [
       "<Figure size 432x288 with 1 Axes>"
      ]
     },
     "metadata": {
      "needs_background": "light"
     },
     "output_type": "display_data"
    }
   ],
   "source": [
    "#referenced above\n",
    "dt = 0.01\n",
    "tRK1, yRK1 = RK3(f, 0.0, 2.0, 1.0, dt)\n",
    "tExact = np.linspace(0.0, 2.0, 201)\n",
    "yExact = np.exp(-tExact**2)\n",
    "plt.plot(tRK1, yRK1, '.-b', label = 'numerical solution')\n",
    "plt.plot(tExact, yExact, 'k', label = 'exact solution')\n",
    "plt.xlabel('t')\n",
    "plt.title('Numerical Solution vs. Exact Solution for dt = %.2f' %dt)\n",
    "plt.legend()"
   ]
  },
  {
   "cell_type": "code",
   "execution_count": null,
   "id": "3f6edc58",
   "metadata": {},
   "outputs": [],
   "source": []
  }
 ],
 "metadata": {
  "kernelspec": {
   "display_name": "Python 3 (ipykernel)",
   "language": "python",
   "name": "python3"
  },
  "language_info": {
   "codemirror_mode": {
    "name": "ipython",
    "version": 3
   },
   "file_extension": ".py",
   "mimetype": "text/x-python",
   "name": "python",
   "nbconvert_exporter": "python",
   "pygments_lexer": "ipython3",
   "version": "3.9.7"
  }
 },
 "nbformat": 4,
 "nbformat_minor": 5
}
