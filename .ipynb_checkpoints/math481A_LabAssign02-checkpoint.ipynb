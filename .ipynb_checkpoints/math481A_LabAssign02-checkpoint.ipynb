{
 "cells": [
  {
   "cell_type": "markdown",
   "id": "cf761439",
   "metadata": {},
   "source": [
    "# MATH 481A - Spring 2022\n",
    "## Numerical Analysis\n",
    "\n",
    "Jorge Balbas\n",
    "\n",
    "<hr>\n",
    "\n",
    "# Lab Assignment #2: Romberg Integration\n",
    "\n",
    "<br>\n",
    "<hr>"
   ]
  },
  {
   "cell_type": "markdown",
   "id": "78de67f8",
   "metadata": {},
   "source": [
    "## Goals:\n",
    "\n",
    "In this lab you will build **Romberg integration tables** for two different functions using **the composite Trapezoidal quadrature rule**. In addition to correction, we will aim for efficiency: **avoid repeated funtion calls**.\n",
    "\n",
    "## Due Date: Tuesday 4/5/22\n",
    "\n",
    "<br>\n",
    "<hr>\n",
    "\n",
    "## Directions:\n",
    "\n",
    "1. Complete the four problems below\n",
    "\n",
    "1. Save the modified notebook\n",
    "\n",
    "1. Upload it to canvas\n",
    "\n",
    "<br>\n",
    "<hr>"
   ]
  },
  {
   "cell_type": "code",
   "execution_count": 1,
   "id": "36d6401f",
   "metadata": {},
   "outputs": [],
   "source": [
    "import numpy as np\n",
    "import matplotlib.pyplot as plt\n",
    "import math\n",
    "import time"
   ]
  },
  {
   "cell_type": "markdown",
   "id": "08797e06",
   "metadata": {},
   "source": [
    "<hr>\n",
    "\n",
    "## Problem #1 (10 Points)\n",
    "\n",
    "<br>\n",
    "Write two Python functions named <tt>f1</tt> and <tt>f2</tt> that take as input a 1D <tt>NumPy</tt> array $x$ and return a 1D <tt>NumPy</tt> array $y$ with the values of\n",
    "\n",
    "$$ f_1(x) = \\frac{1}{1 + x^2} \\ \\ \\ \\ \\ \\ \\ \\ \\ \\text{and} \\ \\ \\ \\ \\ \\ \\ \\ \\ f_2(x) = \\frac{e^{-2x}}{1 + 4x}.$$\n",
    "\n",
    "<br>\n",
    "Plot the functions over the range $x \\in [-5, 5]$ for $f_1$ and $x \\in [0, 1]$ for $f_2$.\n",
    "\n",
    "<br>\n",
    "<hr>"
   ]
  },
  {
   "cell_type": "code",
   "execution_count": 2,
   "id": "8312c047",
   "metadata": {},
   "outputs": [
    {
     "data": {
      "text/plain": [
       "[<matplotlib.lines.Line2D at 0x17d21a8df10>]"
      ]
     },
     "execution_count": 2,
     "metadata": {},
     "output_type": "execute_result"
    },
    {
     "data": {
      "image/png": "[encoded data removed]",
      "text/plain": [
       "<Figure size 432x288 with 1 Axes>"
      ]
     },
     "metadata": {
      "needs_background": "light"
     },
     "output_type": "display_data"
    }
   ],
   "source": [
    "def f1(x):\n",
    "    return 1/(1 + x**2)\n",
    "\n",
    "x1 = np.linspace(-5.0, 5.0, 201)\n",
    "y1 = f1(x1)\n",
    "\n",
    "fig1, ax1 = plt.subplots(1,1,figsize = (6, 4))\n",
    "ax1.plot(x1, y1, '.b')"
   ]
  },
  {
   "cell_type": "code",
   "execution_count": 3,
   "id": "4cdce79c",
   "metadata": {},
   "outputs": [
    {
     "data": {
      "text/plain": [
       "[<matplotlib.lines.Line2D at 0x17d21b91fa0>]"
      ]
     },
     "execution_count": 3,
     "metadata": {},
     "output_type": "execute_result"
    },
    {
     "data": {
      "image/png": "[encoded data removed]",
      "text/plain": [
       "<Figure size 432x288 with 1 Axes>"
      ]
     },
     "metadata": {
      "needs_background": "light"
     },
     "output_type": "display_data"
    }
   ],
   "source": [
    "def f2(x):\n",
    "    return np.exp(-2.0*x)/(1+4*x)\n",
    "\n",
    "x2 = np.linspace(0.0, 1.0, 201)\n",
    "y2 = f2(x2)\n",
    "\n",
    "fig2, ax2 = plt.subplots(1,1,figsize = (6, 4))\n",
    "ax2.plot(x2,y2,'.r')"
   ]
  },
  {
   "cell_type": "markdown",
   "id": "839138df",
   "metadata": {},
   "source": [
    "<hr>\n",
    "\n",
    "### Problem #2 (20 points)\n",
    "\n",
    "<br>\n",
    "Write a Python function named <tt>TrapInt(f, a, b, m)</tt> that takes as input four arguments: \n",
    "\n",
    "1. <tt>f</tt> - The name given to the Python function implementing the function to be integrated\n",
    "\n",
    "1. <tt>a, b</tt> - The limits of integration\n",
    "\n",
    "1. <tt>m</tt> - The number of subintervals to partition the interval $[a, b]$ into.\n",
    "\n",
    "And returns the approximate value of\n",
    "\n",
    "$$ \\int_{a}^{b} f(x) \\, dx,$$\n",
    "\n",
    "calculated using the composite Trapezoidal rule with <tt>m</tt> subintervals.\n",
    "\n",
    "<br>\n",
    "<hr>"
   ]
  },
  {
   "cell_type": "code",
   "execution_count": 4,
   "id": "899151de",
   "metadata": {},
   "outputs": [],
   "source": [
    "def TrapInt(f, a, b, m):\n",
    "    h = (b - a)/m\n",
    "    \n",
    "    x_int = np.linspace(a,b,m+1)\n",
    "    \n",
    "    T = 0.5*h*(f(x_int[0]) + f(x_int[m]))\n",
    "    \n",
    "    for i in range(1, m):\n",
    "        T += h*f(x_int[i])\n",
    "    \n",
    "    return T"
   ]
  },
  {
   "cell_type": "code",
   "execution_count": 5,
   "id": "e82f2d0e",
   "metadata": {},
   "outputs": [
    {
     "name": "stdout",
     "output_type": "stream",
     "text": [
      "2.7467413518567882 \n",
      "\n",
      "0.22048834819548352 \n",
      "\n"
     ]
    }
   ],
   "source": [
    "T1 = TrapInt(f1, -5.0, 5.0, 64)\n",
    "print(T1, '\\n')\n",
    "\n",
    "T2 = TrapInt(f2, 0.0, 1.0, 128)\n",
    "print(T2, '\\n')"
   ]
  },
  {
   "cell_type": "markdown",
   "id": "4f0b70ec",
   "metadata": {},
   "source": [
    "<hr>\n",
    "\n",
    "### Problem #3 (40 points)\n",
    "\n",
    "<br>\n",
    "Write a Python function named <tt>RombergTrap(f, a, b, m, k)</tt> that takes as input four arguments: \n",
    "\n",
    "1. <tt>f</tt> - The name given to the Python function implementing the function to be integrated\n",
    "\n",
    "1. <tt>a, b</tt> - The limits of integration\n",
    "\n",
    "1. <tt>m</tt> - The number of subintervals to partition the interval $[a, b]$ into\n",
    "\n",
    "1. <tt>k</tt> - The number of Romberg's recursions to evaluate\n",
    "\n",
    "and returns a table (2D <tt>NumPy</tt> array) <tt>RTable</tt> of size $(k + 1) \\times (k + 1)$ whose $(i, j)$ entry holds the approximate value of the integral\n",
    "\n",
    "<br>\n",
    "$$ \\int_{a}^{b} f(x) \\, dx,$$\n",
    "\n",
    "<br>\n",
    "calculated with the extrapolation formula\n",
    "\n",
    "$$ T_j(2^i m) = \\frac{4^{j}T_{j-1}(2^{(i+1)} m) - T_{j-1}(2^i m)}{4^j - 1}, \\ \\ \\ \\ \\ j = 1, \\dots, k, \\ \\ \\ i = 0, \\dots k - j $$\n",
    "\n",
    "with $T_0(m)$ corresponding to the composite Trapezoid rule with $m$ subintervals.\n",
    "\n",
    "<br>\n",
    "Avoid using the function <tt>TrapInt</tt> from Problem 2 above. Instead:\n",
    "\n",
    "1. Find $M$, the maximum number of subintervals to calculate $T_0$ with so that enough values of $T_0$ are available to eventually calculate $T_k(m)$, and $h_M$, their size.<br><br>\n",
    "\n",
    "1. Create a 1D <tt>Numpy</tt> array $x$ with the $M+1$ points that $f$ will need to be evaluated at to calculate $T_0(M)$, and a 1D <tt>Numpy</tt> array $y$ with the correspoding $M+1$ $f(x)$ values. <br><br>\n",
    "\n",
    "1. Fill in the first column of the Romberg integration table <tt>RTable[:,0:k]</tt> with the values $T_0(m), T_0(2m), \\dots, T_0(M)$ by <br><br>\n",
    "\n",
    "    1. calculating the contribution from $f(a)$ and $f(b)$ toward each $T_0$ value <br><br>\n",
    "\n",
    "    1. for each row $i = 0, \\dots, k$ find the contribution from $m_i$ interior points $T_0(m_i)$ <br><br>\n",
    "    \n",
    "    1. add the above two together and multiply by $h_i$, the subinterval length for $m_i$ subintervals <br><br>\n",
    "\n",
    "1. Continue with columns $j = 1, \\dots, k$ (rows $i = 0, 1, \\dots, k - j$) using the values from the previous coulumn.<br>\n",
    "\n",
    "Test your code (use the code in the second code cell below) and find the cpu time it takes to build the Romberg table for $f_1$ and $f_2$ over the intervals $[0,1]$ and $[-5, 5]$ respectively for $k = m = 4$.\n",
    "\n",
    "<br>\n",
    "<hr>"
   ]
  },
  {
   "cell_type": "code",
   "execution_count": 6,
   "id": "45b04479",
   "metadata": {},
   "outputs": [],
   "source": [
    "def RombergTrap(f, a, b, m, k):\n",
    "    RTable = np.zeros((k+1, k+1), 'double')\n",
    "    \n",
    "    # number of subintervals needed for T_k(m): M = (2^k)*m\n",
    "    M = (2**k)*m\n",
    "    hM = (b-a)/M\n",
    "    x = np.linspace(a,b,M+1)\n",
    "    y = f(x)\n",
    "    \n",
    "    sum_outer_points = 0.5*(y[0]+y[M])\n",
    "    for i in range(0, k+1):\n",
    "        skip = 2**(k-1)\n",
    "        h = skip*hM\n",
    "        sum_inner_points = np.sum(y[skip:M-skip+1:skip])\n",
    "        RTable[i,0] = h*(sum_inner_points+sum_outer_points)\n",
    "    \n",
    "    for j in range(1,k+1):\n",
    "        for i in range(0, k+1-j):\n",
    "            RTable[i,j] = ((4**j)*RTable[i+1,j-1]-RTable[i,j-1])/((4**j)-1)\n",
    "    \n",
    "    return RTable"
   ]
  },
  {
   "cell_type": "code",
   "execution_count": 7,
   "id": "67ccacdf",
   "metadata": {},
   "outputs": [
    {
     "name": "stdout",
     "output_type": "stream",
     "text": [
      "Romberg Table for f1 with m = 4 and k = 4 with non-recursive formulation \n",
      "\n",
      "cpu time for non-recursive table: tnr1 = 0.00000000e+00s \n",
      "\n",
      "[[2.78448937 2.78448937 2.78448937 2.78448937 2.78448937]\n",
      " [2.78448937 2.78448937 2.78448937 2.78448937 0.        ]\n",
      " [2.78448937 2.78448937 2.78448937 0.         0.        ]\n",
      " [2.78448937 2.78448937 0.         0.         0.        ]\n",
      " [2.78448937 0.         0.         0.         0.        ]] \n",
      "\n",
      "\n",
      "Romberg Table for f2 with m = 4 and k = 4 with non-recursive formulation \n",
      "\n",
      "cpu time for non-recursive table: tnr2 = 1.00016594e-03s \n",
      "\n",
      "[[0.22797875 0.22797875 0.22797875 0.22797875 0.22797875]\n",
      " [0.22797875 0.22797875 0.22797875 0.22797875 0.        ]\n",
      " [0.22797875 0.22797875 0.22797875 0.         0.        ]\n",
      " [0.22797875 0.22797875 0.         0.         0.        ]\n",
      " [0.22797875 0.         0.         0.         0.        ]] \n",
      "\n"
     ]
    }
   ],
   "source": [
    "## nothing to change here, it's just code to test the above function and find the cpu time\n",
    "## as required by the problem\n",
    "\n",
    "tnr1_start = time.time()\n",
    "RTable1 = RombergTrap(f1, -5.0, 5.0, 4, 4)\n",
    "tnr1 = time.time() - tnr1_start\n",
    "\n",
    "print('Romberg Table for f1 with m = 4 and k = 4 with non-recursive formulation \\n')\n",
    "\n",
    "print('cpu time for non-recursive table: tnr1 = %.8es \\n' %tnr1)\n",
    "\n",
    "print(RTable1, '\\n\\n')\n",
    "\n",
    "tnr2_start = time.time()\n",
    "RTable2 = RombergTrap(f2, 0.0, 1.0, 4, 4)\n",
    "tnr2 = time.time() - tnr2_start\n",
    "\n",
    "print('Romberg Table for f2 with m = 4 and k = 4 with non-recursive formulation \\n')\n",
    "\n",
    "print('cpu time for non-recursive table: tnr2 = %.8es \\n' %tnr2)\n",
    "\n",
    "print(RTable2, '\\n')"
   ]
  },
  {
   "cell_type": "markdown",
   "id": "b4c84895",
   "metadata": {},
   "source": [
    "<hr>\n",
    "\n",
    "### Problem #4 (30 points)\n",
    "\n",
    "<br>\n",
    "Use the code below to build the same tables by calling the function <tt>RombergInt</tt> which calculates each entry of the table recursively. Compare the cpu time it takes to build the table this way vs. the time it took to build it using the function in Problem 3 for both functions.<br>\n",
    "\n",
    "You can speed up this method by using <tt>RombergInt</tt> to fill only the first column of the table and then using those values to fill the remaining columns (no more function calls). How much does that reduce the cpu time for building the table?\n",
    "\n",
    "<br>\n",
    "<hr>"
   ]
  },
  {
   "cell_type": "code",
   "execution_count": 8,
   "id": "df83cd96",
   "metadata": {},
   "outputs": [],
   "source": [
    "def RombergInt(f, a, b, m, k):\n",
    "    if k == 0:\n",
    "        return TrapInt(f, a, b, m)\n",
    "    else:\n",
    "        return ((4.0**k)*RombergInt(f, a, b, 2*m, k - 1) - RombergInt(f, a, b, m, k - 1))/(4.0**k - 1.0)"
   ]
  },
  {
   "cell_type": "code",
   "execution_count": 9,
   "id": "27bb2bcf",
   "metadata": {},
   "outputs": [
    {
     "name": "stdout",
     "output_type": "stream",
     "text": [
      "Romberg Table for f1 with m = 4 and k = 4 computed with fully recursive definition \n",
      "\n",
      "cpu time for recursive table: tr3 = 1.39985085e-02s \n",
      "\n",
      "[[3.28580902 2.61738282 2.74104812 2.74770755 2.74679133]\n",
      " [2.78448937 2.73331903 2.7476035  2.74679491 0.        ]\n",
      " [2.74611162 2.74671072 2.74680754 0.         0.        ]\n",
      " [2.74656094 2.74680149 0.         0.         0.        ]\n",
      " [2.74674135 0.         0.         0.         0.        ]] \n",
      "\n"
     ]
    }
   ],
   "source": [
    "tr3_start = time.time()\n",
    "\n",
    "m = 4\n",
    "k = 4\n",
    "RTable3 = np.zeros((k+1,k+1), 'float')\n",
    "for j in range(0,k+1):\n",
    "    for i in range(0,k+1-j):\n",
    "        RTable3[i,j] = RombergInt(f1, -5.0, 5.0, (2**i)*m, j)\n",
    "\n",
    "tr3 = time.time() - tr3_start\n",
    "\n",
    "print('Romberg Table for f1 with m = 4 and k = 4 computed with fully recursive definition \\n')\n",
    "print('cpu time for recursive table: tr3 = %.8es \\n' %tr3)\n",
    "print(RTable3, '\\n')"
   ]
  },
  {
   "cell_type": "code",
   "execution_count": 10,
   "id": "e6743793",
   "metadata": {},
   "outputs": [
    {
     "name": "stdout",
     "output_type": "stream",
     "text": [
      "Romberg Table for f1 with m = 4 and k = 4 computed with (not fully) recursive definition \n",
      "\n",
      "cpu time for recursive table: tr4 = 1.33552551e-02s \n",
      "\n",
      "[[3.28580902 2.61738282 2.74104812 2.74770755 2.74679133]\n",
      " [2.78448937 2.73331903 2.7476035  2.74679491 0.        ]\n",
      " [2.74611162 2.74671072 2.74680754 0.         0.        ]\n",
      " [2.74656094 2.74680149 0.         0.         0.        ]\n",
      " [2.74674135 0.         0.         0.         0.        ]] \n",
      "\n"
     ]
    }
   ],
   "source": [
    "tr4_start = time.time()\n",
    "\n",
    "m = 4\n",
    "k = 4\n",
    "RTable4 = np.zeros((k+1,k+1), 'float')\n",
    "\n",
    "for i in range(0,k+1):\n",
    "    RTable4[i,0] = RombergInt(f1, -5.0, 5.0, (2**i)*m, 0)\n",
    "\n",
    "for j in range(1,k+1):\n",
    "    for i in range(0,k+1-j):\n",
    "        RTable4[i,j] = RombergInt(f1, -5.0, 5.0, (2**i)*m, j)\n",
    "\n",
    "tr4 = time.time() - tr4_start\n",
    "\n",
    "print('Romberg Table for f1 with m = 4 and k = 4 computed with (not fully) recursive definition \\n')\n",
    "print('cpu time for recursive table: tr4 = %.8es \\n' %tr4)\n",
    "print(RTable4, '\\n')"
   ]
  },
  {
   "cell_type": "code",
   "execution_count": null,
   "id": "5f7aa458",
   "metadata": {},
   "outputs": [],
   "source": []
  },
  {
   "cell_type": "code",
   "execution_count": null,
   "id": "a5680547",
   "metadata": {},
   "outputs": [],
   "source": []
  },
  {
   "cell_type": "code",
   "execution_count": null,
   "id": "a28911a3",
   "metadata": {},
   "outputs": [],
   "source": []
  },
  {
   "cell_type": "code",
   "execution_count": null,
   "id": "de060024",
   "metadata": {},
   "outputs": [],
   "source": []
  }
 ],
 "metadata": {
  "kernelspec": {
   "display_name": "Python 3 (ipykernel)",
   "language": "python",
   "name": "python3"
  },
  "language_info": {
   "codemirror_mode": {
    "name": "ipython",
    "version": 3
   },
   "file_extension": ".py",
   "mimetype": "text/x-python",
   "name": "python",
   "nbconvert_exporter": "python",
   "pygments_lexer": "ipython3",
   "version": "3.9.7"
  }
 },
 "nbformat": 4,
 "nbformat_minor": 5
}
