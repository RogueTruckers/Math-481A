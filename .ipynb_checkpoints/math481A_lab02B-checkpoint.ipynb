{
 "cells": [
  {
   "cell_type": "markdown",
   "id": "cf761439",
   "metadata": {},
   "source": [
    "# MATH 481A - Spring 2022\n",
    "## Numerical Analysis\n",
    "\n",
    "Jorge Balbás\n",
    "\n",
    "<hr>\n",
    "\n",
    "# Lab #2B: Numerical Integration\n",
    "\n",
    "<hr>"
   ]
  },
  {
   "cell_type": "markdown",
   "id": "78de67f8",
   "metadata": {},
   "source": [
    "In this lab we will approximate the definite integral \n",
    "\n",
    "$$ \\int_{a}^{b} f(x) \\, dx,$$\n",
    "\n",
    "For different functions $f(x)$ using the composite Midpoint, Trapezoidal and Simpson's quadrature formulas and build Romberg's integration tables for different functions. We will use recursion to implement Romberg's integration method and try to do so efficiently, minimizing the number of function evaluations for both constructing the table and doubling/trippling the number of points per formula. "
   ]
  },
  {
   "cell_type": "code",
   "execution_count": 1,
   "id": "36d6401f",
   "metadata": {},
   "outputs": [],
   "source": [
    "import numpy as np\n",
    "import matplotlib.pyplot as plt\n",
    "import math"
   ]
  },
  {
   "cell_type": "markdown",
   "id": "08797e06",
   "metadata": {},
   "source": [
    "<hr>\n",
    "\n",
    "### Exercise #1. \n",
    "\n",
    "Write a Python function named <tt>f1(x)</tt> that takes as input $x$ and returns $f(x) = \\frac{e^{-2x}}{1 + 4x}$. Plot the funtion over the interval $[0,1]$ using 200 points.\n",
    "\n",
    "<hr>"
   ]
  },
  {
   "cell_type": "code",
   "execution_count": 2,
   "id": "8312c047",
   "metadata": {},
   "outputs": [
    {
     "data": {
      "text/plain": [
       "[<matplotlib.lines.Line2D at 0x7f9b8ae68130>]"
      ]
     },
     "execution_count": 2,
     "metadata": {},
     "output_type": "execute_result"
    },
    {
     "data": {
      "image/png": "[encoded data removed]",
      "text/plain": [
       "<Figure size 432x288 with 1 Axes>"
      ]
     },
     "metadata": {
      "needs_background": "light"
     },
     "output_type": "display_data"
    }
   ],
   "source": [
    "def f1(x):\n",
    "    return np.exp(-2.0*x)/(1.0 + 4.0*x)\n",
    "\n",
    "x = np.linspace(0.0, 1.0, 201)\n",
    "plt.plot(x, f1(x), '.r')"
   ]
  },
  {
   "cell_type": "markdown",
   "id": "839138df",
   "metadata": {},
   "source": [
    "<hr>\n",
    "\n",
    "### Exercise #2\n",
    "\n",
    "Write a Python function named <tt>TrapInt(f, a, b, m)</tt> that takes as input four arguments: \n",
    "\n",
    "1. <tt>f</tt> - The name given to the Python function implementing the function to be integrated\n",
    "\n",
    "1. <tt>a, b</tt> - The limits of integration\n",
    "\n",
    "1. <tt>m</tt> - The number of subintervals to partition the interval $[a, b]$ into.\n",
    "\n",
    "And returns the approximate value of\n",
    "\n",
    "$$ \\int_{a}^{b} f(x) \\, dx,$$\n",
    "\n",
    "<hr>"
   ]
  },
  {
   "cell_type": "code",
   "execution_count": 3,
   "id": "899151de",
   "metadata": {},
   "outputs": [],
   "source": [
    "def TrapInt(f, a, b, m):\n",
    "    h = (b - a)/m\n",
    "    \n",
    "    x_int = np.zeros(m + 1, float)\n",
    "    \n",
    "    for i in range(0, m + 1):\n",
    "        x_int[i] = a + i*h\n",
    "        \n",
    "    I = 0.5*h*(f(x_int[0]) + f(x_int[m]))\n",
    "    \n",
    "    for i in range(1, m):\n",
    "        I += h*f(x_int[i])\n",
    "    \n",
    "    return I"
   ]
  },
  {
   "cell_type": "code",
   "execution_count": 4,
   "id": "e82f2d0e",
   "metadata": {},
   "outputs": [
    {
     "name": "stdout",
     "output_type": "stream",
     "text": [
      "0.24880196965189155\n"
     ]
    }
   ],
   "source": [
    "I1 = TrapInt(f1, 0, 1, 4)\n",
    "print(I1)"
   ]
  },
  {
   "cell_type": "markdown",
   "id": "8505bdf1",
   "metadata": {},
   "source": [
    "<hr>\n",
    "\n",
    "### Exercise #3\n",
    "\n",
    "Write a Python function named <tt>MidInt(f, a, b, m)</tt> that takes as input four arguments: \n",
    "\n",
    "1. <tt>f</tt> - The name given to the Python function implementing the function to be integrated\n",
    "\n",
    "1. <tt>a, b</tt> - The limits of integration\n",
    "\n",
    "1. <tt>m</tt> - The number of subintervals to partition the interval $[a, b]$ into.\n",
    "\n",
    "And returns the approximate value of\n",
    "\n",
    "$$ \\int_{a}^{b} f(x) \\, dx,$$\n",
    "\n",
    "<hr>"
   ]
  },
  {
   "cell_type": "code",
   "execution_count": null,
   "id": "3abe284b",
   "metadata": {},
   "outputs": [],
   "source": []
  },
  {
   "cell_type": "markdown",
   "id": "d32ad890",
   "metadata": {},
   "source": [
    "<hr>\n",
    "\n",
    "### Exercise #4\n",
    "\n",
    "Write a Python function named <tt>SimpInt(f, a, b, m)</tt> that takes as input four arguments: \n",
    "\n",
    "1. <tt>f</tt> - The name given to the Python function implementing the function to be integrated\n",
    "\n",
    "1. <tt>a, b</tt> - The limits of integration\n",
    "\n",
    "1. <tt>m</tt> - The number of subintervals to partition the interval $[a, b]$ into.\n",
    "\n",
    "And returns the approximate value of\n",
    "\n",
    "$$ \\int_{a}^{b} f(x) \\, dx,$$\n",
    "\n",
    "<hr>"
   ]
  },
  {
   "cell_type": "code",
   "execution_count": null,
   "id": "ee95ce16",
   "metadata": {},
   "outputs": [],
   "source": []
  },
  {
   "cell_type": "markdown",
   "id": "22a4f417",
   "metadata": {},
   "source": [
    "<hr>\n",
    "\n",
    "### Exercise #5\n",
    "\n",
    "Write a Python function named <tt>RombergIntT(f, a, b, m, k)</tt> that takes as input four arguments: \n",
    "\n",
    "1. <tt>f</tt> - The name given to the Python function implementing the function to be integrated\n",
    "\n",
    "1. <tt>a, b</tt> - The limits of integration\n",
    "\n",
    "1. <tt>m</tt> - The number of subintervals to partition the interval $[a, b]$ into\n",
    "\n",
    "1. <tt>k</tt> - The number of Romberg's recursions to evaluate\n",
    "\n",
    "And returns the approximate value of\n",
    "\n",
    "$$ T_k(m) = \\frac{4^{k}T_{k-1}(2m) - T_{k-1}(m)}{4^k - 1}$$\n",
    "\n",
    "As the approximate value of\n",
    "\n",
    "$$ \\int_{a}^{b} f(x) \\, dx,$$\n",
    "\n",
    "Build the table column-by-column and avoid re-calculating values of the function already calculated in previous rows.\n",
    "\n",
    "\n",
    "\n",
    "You are creating a table with all points 4 -> 32 = T(m). Then you will use the table values to calculate any T_n(m) by using T(m). \n",
    "\n",
    "ie: T_4(m_ = x_0, x_16, x_32, x_48, x_64\n",
    "Refer to picture on phone\n",
    "\n",
    "<hr>"
   ]
  },
  {
   "cell_type": "code",
   "execution_count": null,
   "id": "33c6e9b8",
   "metadata": {},
   "outputs": [],
   "source": []
  },
  {
   "cell_type": "markdown",
   "id": "ce2d3b03",
   "metadata": {},
   "source": [
    "<hr>\n",
    "\n",
    "### Exercise #6\n",
    "\n",
    "Find a recursive relation similar to that in Exercise #5 for the Midpoint composite formula, and write a Python function named <tt>RombergIntM(f, a, b, m, k)</tt> that takes as input four arguments: \n",
    "\n",
    "1. <tt>f</tt> - The name given to the Python function implementing the function to be integrated\n",
    "\n",
    "1. <tt>a, b</tt> - The limits of integration\n",
    "\n",
    "1. <tt>m</tt> - The number of subintervals to partition the interval $[a, b]$ into\n",
    "\n",
    "1. <tt>k</tt> - The number of Romberg's recursions to evaluate\n",
    "\n",
    "And returns the approximate value of\n",
    "\n",
    "$$ M_k(m) = \\dots %\\frac{4^{k}T_{k-1}(2m) - T_{k-1}(m)}{4^k - 1}$$\n",
    "\n",
    "As the approximate value of\n",
    "\n",
    "$$ \\int_{a}^{b} f(x) \\, dx,$$\n",
    "\n",
    "Build the table column-by-column and avoid re-calculating values of the function already calculated in previous rows.\n",
    "\n",
    "<hr>"
   ]
  },
  {
   "cell_type": "code",
   "execution_count": null,
   "id": "bcd69a79",
   "metadata": {},
   "outputs": [],
   "source": []
  },
  {
   "cell_type": "markdown",
   "id": "5d2ced37",
   "metadata": {},
   "source": [
    "<hr>\n",
    "\n",
    "### Exercise #7\n",
    "\n",
    "Repeat Exercise #6 for Simpson's composite quadrature formula.\n",
    "\n",
    "<hr>"
   ]
  },
  {
   "cell_type": "code",
   "execution_count": null,
   "id": "8d6c1bf3",
   "metadata": {},
   "outputs": [],
   "source": []
  },
  {
   "cell_type": "code",
   "execution_count": 6,
   "id": "ce06dfc5",
   "metadata": {},
   "outputs": [
    {
     "name": "stdout",
     "output_type": "stream",
     "text": [
      "I2 = 0.24880197\n",
      "0.0\n"
     ]
    }
   ],
   "source": [
    "def RombergInt(f, a, b, m, k):\n",
    "    if k == 0:\n",
    "        return TrapInt(f, a, b, m)\n",
    "    else:\n",
    "        return ((4.0**k)*RombergInt(f, a, b, 2*m, k - 1) - RombergInt(f, a, b, m, k - 1))/(4.0**k - 1.0)\n",
    "\n",
    "I2 = RombergInt(f1, 0.0, 1.0, 4, 0)\n",
    "\n",
    "print('I2 = %.8f' %I2)\n",
    "print(I2 - I1)"
   ]
  }
 ],
 "metadata": {
  "kernelspec": {
   "display_name": "Python 3 (ipykernel)",
   "language": "python",
   "name": "python3"
  },
  "language_info": {
   "codemirror_mode": {
    "name": "ipython",
    "version": 3
   },
   "file_extension": ".py",
   "mimetype": "text/x-python",
   "name": "python",
   "nbconvert_exporter": "python",
   "pygments_lexer": "ipython3",
   "version": "3.9.7"
  }
 },
 "nbformat": 4,
 "nbformat_minor": 5
}
